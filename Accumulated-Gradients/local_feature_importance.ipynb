{
 "cells": [
  {
   "cell_type": "code",
   "execution_count": 43,
   "metadata": {},
   "outputs": [],
   "source": [
    "import cv2\n",
    "import numpy as np\n",
    "from models import FashionMNISTModel, SVHNModel\n",
    "from torch import nn \n",
    "import torch\n",
    "import torchvision\n",
    "from torchvision.transforms import Lambda\n",
    "import pickle\n",
    "from utils import create_dataloader, train_step, accuracy_fn, create_video\n",
    "import matplotlib.pyplot as plt\n",
    "from torch.utils.data import DataLoader"
   ]
  },
  {
   "cell_type": "code",
   "execution_count": 44,
   "metadata": {},
   "outputs": [],
   "source": [
    "# # # Choose dataset\n",
    "dataset_name = 'SVHN'  # Change this to 'SVHN' for SVHN dataset\n",
    "device = 'cuda' if torch.cuda.is_available() else 'cpu'"
   ]
  },
  {
   "cell_type": "code",
   "execution_count": 45,
   "metadata": {},
   "outputs": [
    {
     "name": "stdout",
     "output_type": "stream",
     "text": [
      "Using downloaded and verified file: data\\train_32x32.mat\n"
     ]
    }
   ],
   "source": [
    "def create_dataloader(dataset_name, root='data', train=True, download=True, transform=torchvision.transforms.ToTensor(), target_transform=None):\n",
    "    if dataset_name == 'SVHN':\n",
    "        data = getattr(torchvision.datasets, dataset_name)(root=root,\n",
    "                                                           split='train' if train else 'test',\n",
    "                                                           download=download,\n",
    "                                                           transform=transform,\n",
    "                                                           target_transform=target_transform)\n",
    "    else:\n",
    "        data = getattr(torchvision.datasets, dataset_name)(root=root,\n",
    "                                                           train=train,\n",
    "                                                           download=download,\n",
    "                                                           transform=transform,\n",
    "                                                           target_transform=target_transform)\n",
    "    # Select only one sample from the dataset\n",
    "    # data = torch.utils.data.Subset(data, [0])\n",
    "    dataloader = DataLoader(dataset=data, batch_size=1, shuffle=True)\n",
    "    return dataloader, data\n",
    "train_dataloader, train_data = create_dataloader(dataset_name, train=True)"
   ]
  },
  {
   "cell_type": "code",
   "execution_count": 46,
   "metadata": {},
   "outputs": [],
   "source": [
    "# Extract a sample from train_dataloader\n",
    "dataiter = iter(train_dataloader)\n",
    "images, labels = next(dataiter)"
   ]
  },
  {
   "cell_type": "code",
   "execution_count": 47,
   "metadata": {},
   "outputs": [
    {
     "data": {
      "image/png": "[encoded data removed]",
      "text/plain": [
       "<Figure size 200x200 with 1 Axes>"
      ]
     },
     "metadata": {},
     "output_type": "display_data"
    }
   ],
   "source": [
    "# Visualize the image and the label\n",
    "plt.figure(figsize=(2,2))\n",
    "plt.imshow(np.transpose(images[0].numpy(), (1, 2, 0)), cmap='gray')\n",
    "plt.title('Label: ' + str(labels[0].item()))\n",
    "plt.show()\n"
   ]
  },
  {
   "cell_type": "code",
   "execution_count": 48,
   "metadata": {},
   "outputs": [],
   "source": [
    "if dataset_name == 'SVHN':\n",
    "    class_name = [str(i) for i in range(10)]  # SVHN has 10 classes, representing digits 0-9\n",
    "else:\n",
    "    class_name = train_data.classes\n",
    "# Choose model\n",
    "if dataset_name == 'FashionMNIST':\n",
    "    model = FashionMNISTModel(images.shape[0],10,len(class_name))\n",
    "else:\n",
    "    model = SVHNModel(len(class_name))"
   ]
  },
  {
   "cell_type": "code",
   "execution_count": 49,
   "metadata": {},
   "outputs": [],
   "source": [
    "model.to(device)\n",
    "loss_fn = nn.CrossEntropyLoss()\n",
    "optimizer = torch.optim.Adam(model.parameters(),lr=0.001)"
   ]
  },
  {
   "cell_type": "code",
   "execution_count": 50,
   "metadata": {},
   "outputs": [
    {
     "data": {
      "text/plain": [
       "<All keys matched successfully>"
      ]
     },
     "execution_count": 50,
     "metadata": {},
     "output_type": "execute_result"
    }
   ],
   "source": [
    "# Load the model weights from pretrained_model.pth\n",
    "model.load_state_dict(torch.load(f'pretrained_model_{dataset_name}.pth'))"
   ]
  },
  {
   "cell_type": "code",
   "execution_count": 63,
   "metadata": {},
   "outputs": [],
   "source": [
    "\n",
    "def train_step(model, train_data_loader,  loss_fn, optimizer, accuracy_fn, device, calculate_feat_imp=False):\n",
    "    model.train()\n",
    "    train_loss, train_acc = 0, 0\n",
    "    feat_imp_list = []\n",
    "\n",
    "    for batch, (X, y) in enumerate(train_data_loader):\n",
    "        X, y = X.to(device), y.to(device)\n",
    "\n",
    "        if calculate_feat_imp and X.requires_grad == False:\n",
    "            X.requires_grad = True\n",
    "\n",
    "        y_pred = model(X)\n",
    "        loss = loss_fn(y_pred, y)\n",
    "\n",
    "        if calculate_feat_imp:\n",
    "            # Perform feature importance calculation before backward pass\n",
    "            with torch.no_grad():\n",
    "                gradients = torch.autograd.grad(outputs=y_pred, inputs=X, grad_outputs=torch.ones_like(y_pred), only_inputs=True, retain_graph=True)[0]\n",
    "                feat_imp = torch.abs(gradients).mean(dim=0)\n",
    "                feat_imp_list.append(feat_imp.cpu().numpy())\n",
    "\n",
    "        train_loss += loss.item()\n",
    "        train_acc += accuracy_fn(y, y_pred.argmax(dim=1))\n",
    "        optimizer.zero_grad()\n",
    "        loss.backward()\n",
    "        optimizer.step()\n",
    "        # Visualize the image and the label\n",
    "        plt.figure(figsize=(5,5))\n",
    "        plt.imshow(np.transpose(X[0].cpu().detach().numpy(), (1, 2, 0)), cmap='gray')\n",
    "        if calculate_feat_imp:\n",
    "            # Overlay the feature importance map\n",
    "            feat_imp = feat_imp_list[0].squeeze()\n",
    "            feat_imp = cv2.normalize(feat_imp, None, 255,0, norm_type=cv2.NORM_MINMAX, dtype=cv2.CV_8U)\n",
    "            if len(feat_imp.shape) == 2:  # Grayscale\n",
    "                feat_imp = cv2.cvtColor(feat_imp, cv2.COLOR_GRAY2BGR)\n",
    "            elif feat_imp.shape[0] == 3:  # RGB\n",
    "                feat_imp = np.transpose(feat_imp, (1, 2, 0))\n",
    "                feat_imp = cv2.cvtColor(feat_imp, cv2.COLOR_RGB2BGR)  # Convert RGB to BGR format\n",
    "            else:\n",
    "                raise ValueError(\"Unsupported number of channels. The image should be either grayscale or RGB.\")\n",
    "            feat_imp = cv2.applyColorMap(feat_imp, cv2.COLORMAP_JET)\n",
    "            plt.imshow(feat_imp, alpha=0.3)\n",
    "        plt.title('Label: ' + str(y[0].cpu().item()))\n",
    "        plt.show()\n",
    "        break\n",
    "\n",
    "    return feat_imp_list[0] if calculate_feat_imp else model\n"
   ]
  },
  {
   "cell_type": "code",
   "execution_count": 64,
   "metadata": {},
   "outputs": [
    {
     "data": {
      "image/png": "[encoded data removed]",
      "text/plain": [
       "<Figure size 500x500 with 1 Axes>"
      ]
     },
     "metadata": {},
     "output_type": "display_data"
    }
   ],
   "source": [
    "feat_imp = train_step(model, train_dataloader, loss_fn, optimizer, accuracy_fn, device, calculate_feat_imp=True)"
   ]
  },
  {
   "cell_type": "code",
   "execution_count": null,
   "metadata": {},
   "outputs": [],
   "source": []
  }
 ],
 "metadata": {
  "kernelspec": {
   "display_name": "part-time",
   "language": "python",
   "name": "python3"
  },
  "language_info": {
   "codemirror_mode": {
    "name": "ipython",
    "version": 3
   },
   "file_extension": ".py",
   "mimetype": "text/x-python",
   "name": "python",
   "nbconvert_exporter": "python",
   "pygments_lexer": "ipython3",
   "version": "3.11.4"
  }
 },
 "nbformat": 4,
 "nbformat_minor": 2
}
